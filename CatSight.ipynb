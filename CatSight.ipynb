{
 "cells": [
  {
   "cell_type": "code",
   "execution_count": 1,
   "id": "37b990f8-139a-454c-882f-4ce860a4be56",
   "metadata": {},
   "outputs": [
    {
     "name": "stdout",
     "output_type": "stream",
     "text": [
      "Accuracy: 1.0\n",
      "              precision    recall  f1-score   support\n",
      "\n",
      "           0       1.00      1.00      1.00       176\n",
      "           1       1.00      1.00      1.00       124\n",
      "\n",
      "    accuracy                           1.00       300\n",
      "   macro avg       1.00      1.00      1.00       300\n",
      "weighted avg       1.00      1.00      1.00       300\n",
      "\n"
     ]
    }
   ],
   "source": [
    "import pandas as pd\n",
    "from sklearn.model_selection import train_test_split\n",
    "from sklearn.ensemble import RandomForestClassifier\n",
    "from sklearn.preprocessing import LabelEncoder\n",
    "from sklearn.metrics import classification_report, accuracy_score\n",
    "from datetime import datetime\n",
    "\n",
    "df = pd.read_csv('Final_Data.csv')\n",
    "\n",
    "df['Time'] = pd.to_datetime(df['Time'], format='%d-%m-%Y %H:%M')\n",
    "\n",
    "df['Needs_Service'] = df['Probability of Failure'].map({'High': 1, 'Medium': 0, 'Low': 0})\n",
    "\n",
    "label_encoders = {}\n",
    "for column in ['Machine', 'Component', 'Parameter']:\n",
    "    le = LabelEncoder()\n",
    "    df[column] = le.fit_transform(df[column])\n",
    "    label_encoders[column] = le\n",
    "\n",
    "X = df[['Machine', 'Component', 'Parameter', 'Value']]\n",
    "y = df['Needs_Service']\n",
    "\n",
    "X_train, X_test, y_train, y_test = train_test_split(X, y, test_size=0.3, random_state=42)\n",
    "\n",
    "service_model = RandomForestClassifier(n_estimators=100, random_state=42)\n",
    "service_model.fit(X_train, y_train)\n",
    "\n",
    "y_pred = service_model.predict(X_test)\n",
    "print(f\"Accuracy: {accuracy_score(y_test, y_pred)}\")\n",
    "print(classification_report(y_test, y_pred))\n",
    "\n",
    "def predict_service_need_and_days_left(machine, component, parameter, value, current_time):\n",
    "    # Encode the inputs\n",
    "    machine_encoded = label_encoders['Machine'].transform([machine])[0]\n",
    "    component_encoded = label_encoders['Component'].transform([component])[0]\n",
    "    parameter_encoded = label_encoders['Parameter'].transform([parameter])[0]\n",
    "\n",
    "    input_data = [[machine_encoded, component_encoded, parameter_encoded, value]]\n",
    "    \n",
    "    service_prediction = service_model.predict(input_data)\n",
    "    \n",
    "    if service_prediction[0] == 1:\n",
    "        return \"Service Needed\", 0  \n",
    "    \n",
    "    else:\n",
    "        similar_cases = df[(df['Machine'] == machine_encoded) & \n",
    "                           (df['Component'] == component_encoded) & \n",
    "                           (df['Parameter'] == parameter_encoded) & \n",
    "                           (df['Value'] >= value)]\n",
    "        \n",
    "        if not similar_cases.empty:\n",
    "            similar_cases['Days_Until_Service'] = (similar_cases['Time'] - current_time).dt.days\n",
    "            average_days_left = similar_cases['Days_Until_Service'].mean()\n",
    "            return \"No Service Needed\", max(0, round(average_days_left))\n",
    "        else:\n",
    "            return \"No Service Needed\", \"Insufficient data to estimate days left\"\n",
    "\n",
    "\n"
   ]
  },
  {
   "cell_type": "code",
   "execution_count": null,
   "id": "7a8a0199-0acf-4893-9b9b-2a075ff459d7",
   "metadata": {},
   "outputs": [],
   "source": [
    "def interactive_service_prediction():\n",
    "    machine = input(\"Enter machine name: \")\n",
    "    component = input(\"Enter component name: \")\n",
    "    parameter = input(\"Enter parameter name: \")\n",
    "    value = float(input(\"Enter value: \"))\n",
    "    current_time_str = input(\"Enter current time (format: dd-mm-yyyy hh:mm): \")\n",
    "    \n",
    "    current_time = pd.to_datetime(current_time_str, format='%d-%m-%Y %H:%M')\n",
    "    \n",
    "    service_status = predict_service_need_and_days_left(machine, component, parameter, value, current_time)\n",
    "    print(f\"Service Status: {service_status}\")\n",
    "\n",
    "interactive_service_prediction()"
   ]
  },
  {
   "cell_type": "code",
   "execution_count": null,
   "id": "926f0859-5447-427c-a661-da6456df774b",
   "metadata": {},
   "outputs": [],
   "source": []
  }
 ],
 "metadata": {
  "kernelspec": {
   "display_name": "Python 3 (ipykernel)",
   "language": "python",
   "name": "python3"
  },
  "language_info": {
   "codemirror_mode": {
    "name": "ipython",
    "version": 3
   },
   "file_extension": ".py",
   "mimetype": "text/x-python",
   "name": "python",
   "nbconvert_exporter": "python",
   "pygments_lexer": "ipython3",
   "version": "3.12.3"
  }
 },
 "nbformat": 4,
 "nbformat_minor": 5
}
